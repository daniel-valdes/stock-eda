{
 "cells": [
  {
   "cell_type": "code",
   "execution_count": 1,
   "metadata": {},
   "outputs": [
    {
     "name": "stderr",
     "output_type": "stream",
     "text": [
      "/Users/danvaldes/anaconda3/lib/python3.7/site-packages/pandas_datareader/compat/__init__.py:7: FutureWarning:\n",
      "\n",
      "pandas.util.testing is deprecated. Use the functions in the public API at pandas.testing instead.\n",
      "\n"
     ]
    }
   ],
   "source": [
    "import os\n",
    "import pandas as pd\n",
    "import seaborn as sns\n",
    "import matplotlib.pyplot as plt\n",
    "import cufflinks as cf\n",
    "import statsmodels.api as sm\n",
    "import plotly.graph_objects as go\n",
    "import numpy as np\n",
    "from pandas_datareader import data as wb\n",
    "import plotly.express as px\n",
    "from plotly.offline import download_plotlyjs, init_notebook_mode, plot, iplot"
   ]
  },
  {
   "cell_type": "markdown",
   "metadata": {},
   "source": [
    "Pandas display options to supress scientifc notation and show all columns and all rows if necessary. Puts a lot of strain of processor"
   ]
  },
  {
   "cell_type": "code",
   "execution_count": 2,
   "metadata": {},
   "outputs": [],
   "source": [
    "# pd.options.display.max_columns = None\n",
    "# pd.options.display.max_rows = None\n",
    "pd.options.display.float_format= '{:.2f}'.format"
   ]
  },
  {
   "cell_type": "code",
   "execution_count": 3,
   "metadata": {},
   "outputs": [],
   "source": [
    "nyse = pd.read_csv(os.path.join('Resources', 'nyse.csv'))\n",
    "nasdaq = pd.read_csv(os.path.join('Resources', 'nasdaq.csv'))\n",
    "amex = pd.read_csv(os.path.join('Resources', 'amex.csv'))\n",
    "\n",
    "frames = [nyse, nasdaq, amex]\n",
    "tickers = pd.concat(frames).sort_values(by='Ticker')\n",
    "\n",
    "data_2018 = pd.read_csv(os.path.join('Resources', '2018_Financial_Data.csv')).\\\n",
    "rename(columns={'Unnamed: 0':'Ticker'}).\\\n",
    "sort_values(by='Ticker').\\\n",
    "reset_index(drop=True)\n",
    "\n",
    "df = tickers.merge(data_2018, on='Ticker')"
   ]
  },
  {
   "cell_type": "code",
   "execution_count": 4,
   "metadata": {},
   "outputs": [],
   "source": [
    "df = df[df['Market Cap'].notna()];"
   ]
  },
  {
   "cell_type": "code",
   "execution_count": 5,
   "metadata": {},
   "outputs": [],
   "source": [
    "df['Market Cap Size'] = ['Large Cap' if x > 10000000000 else 'Mid Cap' if x > 2000000000 else 'Small Cap' for x in df['Market Cap']]"
   ]
  },
  {
   "cell_type": "markdown",
   "metadata": {},
   "source": [
    "Note: In *__data_2018__* we had 4392 observations. When we merged with our *__tickers__* dataframe which had 8000+ tickers and company names from exchanges we lost 150 observations. These can be retrieved with \n",
    "``` \n",
    "data_2018[~data_2018.Ticker.isin(tickers['Ticker'])]\n",
    "```\n",
    "Here the **~** symbol essentially means NOT IN when we filter.\\\n",
    "Lastly, a dataframe with just indicators we can manipulate. We can filter out some of the columns containing information we don't need then pass this as a filter to our working dataframe with ```df[x['Indicator']]```"
   ]
  },
  {
   "cell_type": "markdown",
   "metadata": {},
   "source": [
    "We can create a dataframe that counts the null values across each column to see what we can begin to drop. We can choose some threshold for amount of null values that once met causes us to drop the column. If we choose 500, we trim out about 30 columns. "
   ]
  },
  {
   "cell_type": "code",
   "execution_count": 6,
   "metadata": {},
   "outputs": [],
   "source": [
    "null_count = pd.DataFrame(df.isna().sum().sort_values(ascending=False))"
   ]
  },
  {
   "cell_type": "code",
   "execution_count": 7,
   "metadata": {},
   "outputs": [],
   "source": [
    "null_count;"
   ]
  },
  {
   "cell_type": "code",
   "execution_count": 8,
   "metadata": {},
   "outputs": [],
   "source": [
    "null_count[null_count[0] >= 500];"
   ]
  },
  {
   "cell_type": "code",
   "execution_count": 9,
   "metadata": {},
   "outputs": [],
   "source": [
    "to_drop = null_count[null_count[0] >= 500].index"
   ]
  },
  {
   "cell_type": "code",
   "execution_count": 10,
   "metadata": {
    "scrolled": true
   },
   "outputs": [],
   "source": [
    "df = df.drop(columns=to_drop)"
   ]
  },
  {
   "cell_type": "code",
   "execution_count": 11,
   "metadata": {},
   "outputs": [
    {
     "data": {
      "text/html": [
       "<div>\n",
       "<style scoped>\n",
       "    .dataframe tbody tr th:only-of-type {\n",
       "        vertical-align: middle;\n",
       "    }\n",
       "\n",
       "    .dataframe tbody tr th {\n",
       "        vertical-align: top;\n",
       "    }\n",
       "\n",
       "    .dataframe thead th {\n",
       "        text-align: right;\n",
       "    }\n",
       "</style>\n",
       "<table border=\"1\" class=\"dataframe\">\n",
       "  <thead>\n",
       "    <tr style=\"text-align: right;\">\n",
       "      <th></th>\n",
       "      <th>Ticker</th>\n",
       "      <th>Company Name</th>\n",
       "      <th>Revenue</th>\n",
       "      <th>Revenue Growth</th>\n",
       "      <th>Cost of Revenue</th>\n",
       "      <th>Gross Profit</th>\n",
       "      <th>R&amp;D Expenses</th>\n",
       "      <th>SG&amp;A Expense</th>\n",
       "      <th>Operating Expenses</th>\n",
       "      <th>Operating Income</th>\n",
       "      <th>...</th>\n",
       "      <th>Inventory Growth</th>\n",
       "      <th>Asset Growth</th>\n",
       "      <th>Book Value per Share Growth</th>\n",
       "      <th>Debt Growth</th>\n",
       "      <th>R&amp;D Expense Growth</th>\n",
       "      <th>SG&amp;A Expenses Growth</th>\n",
       "      <th>Sector</th>\n",
       "      <th>2019 PRICE VAR [%]</th>\n",
       "      <th>Class</th>\n",
       "      <th>Market Cap Size</th>\n",
       "    </tr>\n",
       "  </thead>\n",
       "  <tbody>\n",
       "    <tr>\n",
       "      <th>0</th>\n",
       "      <td>A</td>\n",
       "      <td>Agilent Technologies</td>\n",
       "      <td>4914000000.00</td>\n",
       "      <td>0.10</td>\n",
       "      <td>2227000000.00</td>\n",
       "      <td>2687000000.00</td>\n",
       "      <td>385000000.00</td>\n",
       "      <td>1374000000.00</td>\n",
       "      <td>1759000000.00</td>\n",
       "      <td>928000000.00</td>\n",
       "      <td>...</td>\n",
       "      <td>0.11</td>\n",
       "      <td>0.01</td>\n",
       "      <td>-0.05</td>\n",
       "      <td>-0.11</td>\n",
       "      <td>0.14</td>\n",
       "      <td>0.12</td>\n",
       "      <td>Healthcare</td>\n",
       "      <td>30.98</td>\n",
       "      <td>1</td>\n",
       "      <td>Large Cap</td>\n",
       "    </tr>\n",
       "    <tr>\n",
       "      <th>1</th>\n",
       "      <td>AA</td>\n",
       "      <td>Alcoa Corp</td>\n",
       "      <td>13403000000.00</td>\n",
       "      <td>0.15</td>\n",
       "      <td>10081000000.00</td>\n",
       "      <td>3322000000.00</td>\n",
       "      <td>31000000.00</td>\n",
       "      <td>248000000.00</td>\n",
       "      <td>1603000000.00</td>\n",
       "      <td>1719000000.00</td>\n",
       "      <td>...</td>\n",
       "      <td>0.25</td>\n",
       "      <td>-0.08</td>\n",
       "      <td>0.23</td>\n",
       "      <td>0.28</td>\n",
       "      <td>-0.03</td>\n",
       "      <td>-0.11</td>\n",
       "      <td>Basic Materials</td>\n",
       "      <td>-18.03</td>\n",
       "      <td>0</td>\n",
       "      <td>Mid Cap</td>\n",
       "    </tr>\n",
       "    <tr>\n",
       "      <th>2</th>\n",
       "      <td>AAL</td>\n",
       "      <td>American Airlines Gp</td>\n",
       "      <td>44541000000.00</td>\n",
       "      <td>0.04</td>\n",
       "      <td>20400000000.00</td>\n",
       "      <td>24141000000.00</td>\n",
       "      <td>0.00</td>\n",
       "      <td>13771000000.00</td>\n",
       "      <td>21485000000.00</td>\n",
       "      <td>2656000000.00</td>\n",
       "      <td>...</td>\n",
       "      <td>0.12</td>\n",
       "      <td>0.15</td>\n",
       "      <td>0.77</td>\n",
       "      <td>0.36</td>\n",
       "      <td>0.00</td>\n",
       "      <td>0.03</td>\n",
       "      <td>Industrials</td>\n",
       "      <td>-10.60</td>\n",
       "      <td>0</td>\n",
       "      <td>Large Cap</td>\n",
       "    </tr>\n",
       "    <tr>\n",
       "      <th>3</th>\n",
       "      <td>AAMC</td>\n",
       "      <td>Altisource Asset</td>\n",
       "      <td>15926000.00</td>\n",
       "      <td>-0.12</td>\n",
       "      <td>0.00</td>\n",
       "      <td>15926000.00</td>\n",
       "      <td>0.00</td>\n",
       "      <td>22534000.00</td>\n",
       "      <td>22534000.00</td>\n",
       "      <td>-6608000.00</td>\n",
       "      <td>...</td>\n",
       "      <td>0.00</td>\n",
       "      <td>-0.18</td>\n",
       "      <td>-0.03</td>\n",
       "      <td>0.00</td>\n",
       "      <td>0.00</td>\n",
       "      <td>-0.12</td>\n",
       "      <td>Financial Services</td>\n",
       "      <td>-58.85</td>\n",
       "      <td>0</td>\n",
       "      <td>Small Cap</td>\n",
       "    </tr>\n",
       "    <tr>\n",
       "      <th>4</th>\n",
       "      <td>AAME</td>\n",
       "      <td>Atlantic Amer Cp</td>\n",
       "      <td>185553000.00</td>\n",
       "      <td>0.02</td>\n",
       "      <td>132650000.00</td>\n",
       "      <td>52903000.00</td>\n",
       "      <td>0.00</td>\n",
       "      <td>39042000.00</td>\n",
       "      <td>51837000.00</td>\n",
       "      <td>1066000.00</td>\n",
       "      <td>...</td>\n",
       "      <td>0.00</td>\n",
       "      <td>0.00</td>\n",
       "      <td>-0.09</td>\n",
       "      <td>0.00</td>\n",
       "      <td>0.00</td>\n",
       "      <td>-0.10</td>\n",
       "      <td>Financial Services</td>\n",
       "      <td>-20.25</td>\n",
       "      <td>0</td>\n",
       "      <td>Small Cap</td>\n",
       "    </tr>\n",
       "  </tbody>\n",
       "</table>\n",
       "<p>5 rows × 195 columns</p>\n",
       "</div>"
      ],
      "text/plain": [
       "  Ticker          Company Name        Revenue  Revenue Growth  \\\n",
       "0      A  Agilent Technologies  4914000000.00            0.10   \n",
       "1     AA            Alcoa Corp 13403000000.00            0.15   \n",
       "2    AAL  American Airlines Gp 44541000000.00            0.04   \n",
       "3   AAMC      Altisource Asset    15926000.00           -0.12   \n",
       "4   AAME      Atlantic Amer Cp   185553000.00            0.02   \n",
       "\n",
       "   Cost of Revenue   Gross Profit  R&D Expenses   SG&A Expense  \\\n",
       "0    2227000000.00  2687000000.00  385000000.00  1374000000.00   \n",
       "1   10081000000.00  3322000000.00   31000000.00   248000000.00   \n",
       "2   20400000000.00 24141000000.00          0.00 13771000000.00   \n",
       "3             0.00    15926000.00          0.00    22534000.00   \n",
       "4     132650000.00    52903000.00          0.00    39042000.00   \n",
       "\n",
       "   Operating Expenses  Operating Income  ...  Inventory Growth  Asset Growth  \\\n",
       "0       1759000000.00      928000000.00  ...              0.11          0.01   \n",
       "1       1603000000.00     1719000000.00  ...              0.25         -0.08   \n",
       "2      21485000000.00     2656000000.00  ...              0.12          0.15   \n",
       "3         22534000.00       -6608000.00  ...              0.00         -0.18   \n",
       "4         51837000.00        1066000.00  ...              0.00          0.00   \n",
       "\n",
       "   Book Value per Share Growth  Debt Growth  R&D Expense Growth  \\\n",
       "0                        -0.05        -0.11                0.14   \n",
       "1                         0.23         0.28               -0.03   \n",
       "2                         0.77         0.36                0.00   \n",
       "3                        -0.03         0.00                0.00   \n",
       "4                        -0.09         0.00                0.00   \n",
       "\n",
       "   SG&A Expenses Growth              Sector  2019 PRICE VAR [%]  Class  \\\n",
       "0                  0.12          Healthcare               30.98      1   \n",
       "1                 -0.11     Basic Materials              -18.03      0   \n",
       "2                  0.03         Industrials              -10.60      0   \n",
       "3                 -0.12  Financial Services              -58.85      0   \n",
       "4                 -0.10  Financial Services              -20.25      0   \n",
       "\n",
       "   Market Cap Size  \n",
       "0        Large Cap  \n",
       "1          Mid Cap  \n",
       "2        Large Cap  \n",
       "3        Small Cap  \n",
       "4        Small Cap  \n",
       "\n",
       "[5 rows x 195 columns]"
      ]
     },
     "execution_count": 11,
     "metadata": {},
     "output_type": "execute_result"
    }
   ],
   "source": [
    "df.head()"
   ]
  },
  {
   "cell_type": "markdown",
   "metadata": {},
   "source": [
    "If we count the null values across rows, we see that some companies are missing info on 150+ columns. We set the threshold to be 120, meaning rows with less than 120 populated columns are dropped."
   ]
  },
  {
   "cell_type": "code",
   "execution_count": 12,
   "metadata": {},
   "outputs": [],
   "source": [
    "row_null_count = pd.DataFrame(df.isnull().sum(axis = 1).sort_values(ascending=False))"
   ]
  },
  {
   "cell_type": "code",
   "execution_count": 13,
   "metadata": {},
   "outputs": [
    {
     "data": {
      "text/html": [
       "<div>\n",
       "<style scoped>\n",
       "    .dataframe tbody tr th:only-of-type {\n",
       "        vertical-align: middle;\n",
       "    }\n",
       "\n",
       "    .dataframe tbody tr th {\n",
       "        vertical-align: top;\n",
       "    }\n",
       "\n",
       "    .dataframe thead th {\n",
       "        text-align: right;\n",
       "    }\n",
       "</style>\n",
       "<table border=\"1\" class=\"dataframe\">\n",
       "  <thead>\n",
       "    <tr style=\"text-align: right;\">\n",
       "      <th></th>\n",
       "      <th>0</th>\n",
       "    </tr>\n",
       "  </thead>\n",
       "  <tbody>\n",
       "    <tr>\n",
       "      <th>1153</th>\n",
       "      <td>106</td>\n",
       "    </tr>\n",
       "    <tr>\n",
       "      <th>1819</th>\n",
       "      <td>104</td>\n",
       "    </tr>\n",
       "    <tr>\n",
       "      <th>220</th>\n",
       "      <td>103</td>\n",
       "    </tr>\n",
       "    <tr>\n",
       "      <th>1219</th>\n",
       "      <td>101</td>\n",
       "    </tr>\n",
       "    <tr>\n",
       "      <th>3862</th>\n",
       "      <td>98</td>\n",
       "    </tr>\n",
       "  </tbody>\n",
       "</table>\n",
       "</div>"
      ],
      "text/plain": [
       "        0\n",
       "1153  106\n",
       "1819  104\n",
       "220   103\n",
       "1219  101\n",
       "3862   98"
      ]
     },
     "execution_count": 13,
     "metadata": {},
     "output_type": "execute_result"
    }
   ],
   "source": [
    "row_null_count.head(5)"
   ]
  },
  {
   "cell_type": "code",
   "execution_count": 14,
   "metadata": {},
   "outputs": [],
   "source": [
    "df = df.dropna(thresh=120)"
   ]
  },
  {
   "cell_type": "markdown",
   "metadata": {},
   "source": [
    "Finally we fill null values with the means across cap size"
   ]
  },
  {
   "cell_type": "code",
   "execution_count": 15,
   "metadata": {},
   "outputs": [],
   "source": [
    "small_caps = df[df['Market Cap Size'] == 'Small Cap']\n",
    "mid_caps = df[df['Market Cap Size'] == 'Mid Cap']\n",
    "large_caps = df[df['Market Cap Size'] == 'Large Cap']"
   ]
  },
  {
   "cell_type": "code",
   "execution_count": 16,
   "metadata": {},
   "outputs": [],
   "source": [
    "small_caps = df[df['Market Cap Size'] == 'Small Cap'].fillna(small_caps.mean())\n",
    "mid_caps = df[df['Market Cap Size'] == 'Mid Cap'].fillna(mid_caps.mean())\n",
    "large_caps = df[df['Market Cap Size'] == 'Large Cap'].fillna(large_caps.mean())"
   ]
  },
  {
   "cell_type": "code",
   "execution_count": 17,
   "metadata": {
    "scrolled": false
   },
   "outputs": [],
   "source": [
    "caps = [small_caps, mid_caps, large_caps]\n",
    "\n",
    "market = pd.concat(caps)\n",
    "\n",
    "market;"
   ]
  },
  {
   "cell_type": "code",
   "execution_count": 18,
   "metadata": {},
   "outputs": [],
   "source": [
    "indicators = pd.DataFrame({\n",
    "   'Indicator': market.columns.tolist()\n",
    "})\n",
    "\n",
    "filt = indicators[indicators['Indicator'].str.contains('Growth|growth|Margin|ratio|Ratio|Turnover|per|/| / | to |Per|return|To|days|Days') == False]\n",
    "\n",
    "cond = filt['Indicator'].to_list()"
   ]
  },
  {
   "cell_type": "code",
   "execution_count": null,
   "metadata": {},
   "outputs": [],
   "source": [
    "# market.to_csv(os.path.join('cleaned_data.csv'))"
   ]
  },
  {
   "cell_type": "markdown",
   "metadata": {},
   "source": [
    " \n",
    "\n",
    "\n",
    "\n",
    "\n",
    "\n"
   ]
  },
  {
   "cell_type": "markdown",
   "metadata": {},
   "source": [
    " \n",
    "\n",
    "\n",
    "\n",
    "\n",
    "\n"
   ]
  },
  {
   "cell_type": "markdown",
   "metadata": {},
   "source": [
    "## CONDITIONAL FILTERING"
   ]
  },
  {
   "cell_type": "code",
   "execution_count": null,
   "metadata": {},
   "outputs": [],
   "source": [
    "tickers[tickers['Ticker'].str.startswith('BA') == True];"
   ]
  },
  {
   "cell_type": "code",
   "execution_count": null,
   "metadata": {},
   "outputs": [],
   "source": [
    "tickers[tickers['Company Name'].str.contains('ETF') == True];"
   ]
  },
  {
   "cell_type": "code",
   "execution_count": null,
   "metadata": {},
   "outputs": [],
   "source": [
    "df[df['Company Name'].str.contains('ETF') == True];"
   ]
  },
  {
   "cell_type": "code",
   "execution_count": null,
   "metadata": {
    "scrolled": true
   },
   "outputs": [],
   "source": [
    "df[df['Ticker'].str.startswith('BA') == True];"
   ]
  },
  {
   "cell_type": "code",
   "execution_count": null,
   "metadata": {},
   "outputs": [],
   "source": [
    "df[df['Revenue Growth'] > 10].sort_values(by='Revenue', ascending=False).head()"
   ]
  },
  {
   "cell_type": "code",
   "execution_count": 26,
   "metadata": {
    "scrolled": true
   },
   "outputs": [
    {
     "data": {
      "text/html": [
       "<div>\n",
       "<style scoped>\n",
       "    .dataframe tbody tr th:only-of-type {\n",
       "        vertical-align: middle;\n",
       "    }\n",
       "\n",
       "    .dataframe tbody tr th {\n",
       "        vertical-align: top;\n",
       "    }\n",
       "\n",
       "    .dataframe thead th {\n",
       "        text-align: right;\n",
       "    }\n",
       "</style>\n",
       "<table border=\"1\" class=\"dataframe\">\n",
       "  <thead>\n",
       "    <tr style=\"text-align: right;\">\n",
       "      <th></th>\n",
       "      <th>Company Name</th>\n",
       "      <th>2019 PRICE VAR [%]</th>\n",
       "    </tr>\n",
       "  </thead>\n",
       "  <tbody>\n",
       "    <tr>\n",
       "      <th>717</th>\n",
       "      <td>Camber Energy Inc</td>\n",
       "      <td>-99.86</td>\n",
       "    </tr>\n",
       "    <tr>\n",
       "      <th>3995</th>\n",
       "      <td>Viveve Medical</td>\n",
       "      <td>-98.86</td>\n",
       "    </tr>\n",
       "    <tr>\n",
       "      <th>1149</th>\n",
       "      <td>DPW Holdings Inc</td>\n",
       "      <td>-98.76</td>\n",
       "    </tr>\n",
       "    <tr>\n",
       "      <th>2581</th>\n",
       "      <td>Naked Brand Group Inc</td>\n",
       "      <td>-98.15</td>\n",
       "    </tr>\n",
       "    <tr>\n",
       "      <th>1982</th>\n",
       "      <td>Inpixon</td>\n",
       "      <td>-96.78</td>\n",
       "    </tr>\n",
       "  </tbody>\n",
       "</table>\n",
       "</div>"
      ],
      "text/plain": [
       "               Company Name  2019 PRICE VAR [%]\n",
       "717       Camber Energy Inc              -99.86\n",
       "3995         Viveve Medical              -98.86\n",
       "1149       DPW Holdings Inc              -98.76\n",
       "2581  Naked Brand Group Inc              -98.15\n",
       "1982                Inpixon              -96.78"
      ]
     },
     "execution_count": 26,
     "metadata": {},
     "output_type": "execute_result"
    }
   ],
   "source": [
    "market.sort_values(by='2019 PRICE VAR [%]')[['Company Name','2019 PRICE VAR [%]']].head()"
   ]
  },
  {
   "cell_type": "markdown",
   "metadata": {},
   "source": [
    " "
   ]
  },
  {
   "cell_type": "markdown",
   "metadata": {},
   "source": [
    " "
   ]
  },
  {
   "cell_type": "markdown",
   "metadata": {},
   "source": [
    "# ITERATORS"
   ]
  },
  {
   "cell_type": "markdown",
   "metadata": {},
   "source": [
    "Sector breakdown across Market Cap Sizes"
   ]
  },
  {
   "cell_type": "code",
   "execution_count": null,
   "metadata": {},
   "outputs": [],
   "source": [
    "count = pd.DataFrame(df.groupby(['Market Cap Size'])['Sector'].value_counts());\n",
    "\n",
    "count_gen = count.groupby(['Market Cap Size']).__iter__()"
   ]
  },
  {
   "cell_type": "code",
   "execution_count": null,
   "metadata": {
    "scrolled": false
   },
   "outputs": [],
   "source": [
    "count_group_id, count_grouped_data = count_gen.__next__()\n",
    "print(count_group_id) \n",
    "count_grouped_data"
   ]
  },
  {
   "cell_type": "markdown",
   "metadata": {},
   "source": [
    " "
   ]
  },
  {
   "cell_type": "markdown",
   "metadata": {},
   "source": [
    "Iterate across Market Caps and Sectors"
   ]
  },
  {
   "cell_type": "code",
   "execution_count": null,
   "metadata": {},
   "outputs": [],
   "source": [
    "mcap_gen = df.groupby(['Market Cap Size']).__iter__()\n",
    "sector_gen = df.groupby(['Sector']).__iter__()"
   ]
  },
  {
   "cell_type": "code",
   "execution_count": null,
   "metadata": {
    "scrolled": false
   },
   "outputs": [],
   "source": [
    "market_group_id, market_grouped_data = mcap_gen.__next__()\n",
    "print(market_group_id) \n",
    "market_grouped_data;"
   ]
  },
  {
   "cell_type": "code",
   "execution_count": null,
   "metadata": {
    "scrolled": false
   },
   "outputs": [],
   "source": [
    "sector_group_id, sector_grouped_data = sector_gen.__next__()\n",
    "print(sector_group_id)\n",
    "sector_grouped_data;"
   ]
  },
  {
   "cell_type": "markdown",
   "metadata": {},
   "source": [
    " "
   ]
  },
  {
   "cell_type": "markdown",
   "metadata": {},
   "source": [
    " "
   ]
  },
  {
   "cell_type": "code",
   "execution_count": null,
   "metadata": {},
   "outputs": [],
   "source": [
    "scap_gen = small_caps.groupby(['Sector']).__iter__()"
   ]
  },
  {
   "cell_type": "code",
   "execution_count": null,
   "metadata": {
    "scrolled": true
   },
   "outputs": [],
   "source": [
    "scap_group_id, scap_grouped_data = scap_gen.__next__()\n",
    "print(scap_group_id) \n",
    "scap_grouped_data.sort_values(by='Revenue Growth', ascending=False)"
   ]
  },
  {
   "cell_type": "code",
   "execution_count": null,
   "metadata": {
    "scrolled": true
   },
   "outputs": [],
   "source": [
    "assets = scap_grouped_data['Ticker'].to_list()\n",
    "\n",
    "pf_data = pd.DataFrame()\n",
    "\n",
    "for a in assets:\n",
    "    pf_data[a] = wb.DataReader(a, data_source = 'yahoo', start = '2018-1-1')['Adj Close']\n"
   ]
  },
  {
   "cell_type": "markdown",
   "metadata": {},
   "source": [
    " "
   ]
  },
  {
   "cell_type": "markdown",
   "metadata": {},
   "source": [
    " "
   ]
  },
  {
   "cell_type": "code",
   "execution_count": null,
   "metadata": {},
   "outputs": [],
   "source": [
    "mcap_gen = mid_caps.groupby(['Sector']).__iter__()"
   ]
  },
  {
   "cell_type": "code",
   "execution_count": null,
   "metadata": {
    "scrolled": true
   },
   "outputs": [],
   "source": [
    "mcap_group_id, mcap_grouped_data = mcap_gen.__next__()\n",
    "print(mcap_group_id) \n",
    "mcap_grouped_data.sort_values(by='Revenue Growth', ascending=False)"
   ]
  },
  {
   "cell_type": "code",
   "execution_count": null,
   "metadata": {
    "scrolled": false
   },
   "outputs": [],
   "source": [
    "assets = mcap_grouped_data['Ticker'].to_list()\n",
    "\n",
    "pf_data = pd.DataFrame()\n",
    "\n",
    "for a in assets:\n",
    "    pf_data[a] = wb.DataReader(a, data_source = 'yahoo', start = '2018-1-1')['Adj Close']\n"
   ]
  },
  {
   "cell_type": "markdown",
   "metadata": {},
   "source": [
    " "
   ]
  },
  {
   "cell_type": "markdown",
   "metadata": {},
   "source": [
    " "
   ]
  },
  {
   "cell_type": "code",
   "execution_count": null,
   "metadata": {},
   "outputs": [],
   "source": [
    "lcap_gen = large_caps.groupby(['Sector']).__iter__()"
   ]
  },
  {
   "cell_type": "code",
   "execution_count": null,
   "metadata": {
    "scrolled": true
   },
   "outputs": [],
   "source": [
    "lcap_group_id, lcap_grouped_data = lcap_gen.__next__()\n",
    "print(lcap_group_id) \n",
    "lcap_grouped_data.sort_values(by='Revenue Growth', ascending=False)"
   ]
  },
  {
   "cell_type": "code",
   "execution_count": null,
   "metadata": {
    "scrolled": false
   },
   "outputs": [],
   "source": [
    "assets = lcap_grouped_data['Ticker'].to_list()\n",
    "\n",
    "pf_data = pd.DataFrame()\n",
    "\n",
    "for a in assets:\n",
    "    pf_data[a] = wb.DataReader(a, data_source = 'yahoo', start = '2018-1-1')['Adj Close']\n",
    "\n",
    "(pf_data / pf_data.iloc[0] * 100).iplot(asFigure=True)"
   ]
  },
  {
   "cell_type": "markdown",
   "metadata": {},
   "source": [
    " "
   ]
  },
  {
   "cell_type": "markdown",
   "metadata": {},
   "source": [
    " "
   ]
  },
  {
   "cell_type": "markdown",
   "metadata": {},
   "source": [
    "## GRAPHS & VISUALIZATIONS"
   ]
  },
  {
   "cell_type": "markdown",
   "metadata": {},
   "source": [
    "Count of Companies by Sector"
   ]
  },
  {
   "cell_type": "code",
   "execution_count": null,
   "metadata": {
    "scrolled": true
   },
   "outputs": [],
   "source": [
    "plt.figure(figsize=(18,8))\n",
    "sns.countplot(x='Sector', data = df, palette='viridis', order=df['Sector'].value_counts().index).set_xticklabels(labels = df['Sector'].value_counts().index, fontdict={'fontsize': 12},rotation=30)\n",
    "plt.tight_layout()\n",
    "plt.savefig(os.path.join('Figures','StockVolume_Sector.png'))"
   ]
  },
  {
   "cell_type": "markdown",
   "metadata": {},
   "source": [
    "Revenues by Sector"
   ]
  },
  {
   "cell_type": "code",
   "execution_count": null,
   "metadata": {},
   "outputs": [],
   "source": [
    "sector_rev = pd.DataFrame(df.groupby(['Sector']).mean()['Revenue']).reset_index().sort_values(by='Revenue', ascending=False)\n",
    "\n",
    "plt.figure(figsize=(18,8))\n",
    "plt.title('Revenues by Sector')\n",
    "sns.barplot(x = sector_rev['Sector'], y = sector_rev['Revenue'], palette='viridis',).set_xticklabels(labels = sector_rev['Sector'], fontdict={'fontsize': 12}, rotation=30)\n",
    "plt.tight_layout();\n",
    "plt.savefig(os.path.join('Figures','SectorRev.png'))"
   ]
  },
  {
   "cell_type": "markdown",
   "metadata": {},
   "source": [
    "Count of Companies across Market Cap Sizes"
   ]
  },
  {
   "cell_type": "code",
   "execution_count": null,
   "metadata": {
    "scrolled": true
   },
   "outputs": [],
   "source": [
    "plt.figure(figsize=(18,8))\n",
    "sns.countplot(x='Market Cap Size', data = df, palette='viridis', order=df['Market Cap Size'].value_counts().index).set_xticklabels(labels = df['Market Cap Size'].value_counts().index, fontdict={'fontsize': 12},rotation=30)\n",
    "plt.tight_layout()\n",
    "plt.ylabel('Company Count')\n",
    "plt.savefig(os.path.join('Figures','MarketCapBreakdown.png'))"
   ]
  },
  {
   "cell_type": "code",
   "execution_count": null,
   "metadata": {},
   "outputs": [],
   "source": [
    "bars = []\n",
    "sectors = df['Sector'].unique()\n",
    "caps=['Small Cap', 'Mid Cap', 'Large Cap']\n",
    "for sector in sectors:\n",
    "    bars.append(go.Bar(name=sector, x=caps, y=np.array(df[df['Sector'] == sector]['Market Cap Size'].value_counts())))\n",
    "\n",
    "plt.figure(figsize=(30,12))\n",
    "fig = go.Figure(data=bars)\n",
    "# Change the bar mode\n",
    "fig.update_layout(barmode='stack')\n",
    "fig.show()"
   ]
  },
  {
   "cell_type": "code",
   "execution_count": null,
   "metadata": {
    "scrolled": false
   },
   "outputs": [],
   "source": [
    "sns.pairplot(large_caps[['2019 PRICE VAR [%]', 'Revenue', 'R&D Expenses', 'Sector','Free Cash Flow','Net Debt']], diag_kind=\"kde\")"
   ]
  },
  {
   "cell_type": "code",
   "execution_count": null,
   "metadata": {},
   "outputs": [],
   "source": [
    "sns.pairplot(large_caps, x_vars=['Revenue', 'R&D Expenses', 'Free Cash Flow','Net Debt','EBIT'], y_vars=['2019 PRICE VAR [%]'], kind='reg')"
   ]
  },
  {
   "cell_type": "code",
   "execution_count": null,
   "metadata": {},
   "outputs": [],
   "source": [
    "corrs = market[cond].corr()\n",
    "\n",
    "plt.figure(figsize=(20,20))\n",
    "g = sns.heatmap(corrs, center=0)\n",
    "plt.title('Correlations Among Corporate Financial Indicators')\n",
    "# plt.savefig(os.path.join('Figures','correlations.png'))"
   ]
  },
  {
   "cell_type": "code",
   "execution_count": null,
   "metadata": {
    "scrolled": false
   },
   "outputs": [],
   "source": [
    "px.scatter(large_caps, x='Free Cash Flow', y='2019 PRICE VAR [%]', hover_data=['Company Name','Ticker','Market Cap','Sector'])"
   ]
  },
  {
   "cell_type": "markdown",
   "metadata": {},
   "source": [
    " "
   ]
  },
  {
   "cell_type": "markdown",
   "metadata": {},
   "source": [
    " "
   ]
  },
  {
   "cell_type": "markdown",
   "metadata": {},
   "source": [
    "## Linear Regression Analysis"
   ]
  },
  {
   "cell_type": "code",
   "execution_count": null,
   "metadata": {},
   "outputs": [],
   "source": [
    "y = market[\"2019 PRICE VAR [%]\"]\n",
    "\n",
    "X = sm.add_constant(market[cond].iloc[:,0:-2])"
   ]
  },
  {
   "cell_type": "code",
   "execution_count": null,
   "metadata": {
    "scrolled": false
   },
   "outputs": [],
   "source": [
    "reg = sm.OLS(y, X).fit()\n",
    "\n",
    "reg.summary();"
   ]
  },
  {
   "cell_type": "markdown",
   "metadata": {},
   "source": [
    " "
   ]
  },
  {
   "cell_type": "markdown",
   "metadata": {},
   "source": [
    " "
   ]
  }
 ],
 "metadata": {
  "kernelspec": {
   "display_name": "Python 3",
   "language": "python",
   "name": "python3"
  },
  "language_info": {
   "codemirror_mode": {
    "name": "ipython",
    "version": 3
   },
   "file_extension": ".py",
   "mimetype": "text/x-python",
   "name": "python",
   "nbconvert_exporter": "python",
   "pygments_lexer": "ipython3",
   "version": "3.7.3"
  }
 },
 "nbformat": 4,
 "nbformat_minor": 2
}
