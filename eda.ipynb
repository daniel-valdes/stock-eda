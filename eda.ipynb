{
 "cells": [
  {
   "cell_type": "code",
   "execution_count": 1,
   "metadata": {},
   "outputs": [
    {
     "name": "stderr",
     "output_type": "stream",
     "text": [
      "/Users/danvaldes/anaconda3/lib/python3.7/site-packages/pandas_datareader/compat/__init__.py:7: FutureWarning:\n",
      "\n",
      "pandas.util.testing is deprecated. Use the functions in the public API at pandas.testing instead.\n",
      "\n"
     ]
    }
   ],
   "source": [
    "import os\n",
    "import pandas as pd\n",
    "import seaborn as sns\n",
    "import matplotlib.pyplot as plt\n",
    "import cufflinks as cf\n",
    "import statsmodels.api as sm\n",
    "import plotly.graph_objects as go\n",
    "import numpy as np\n",
    "from pandas_datareader import data as wb\n",
    "import plotly.express as px\n",
    "from plotly.offline import download_plotlyjs, init_notebook_mode, plot, iplot"
   ]
  },
  {
   "cell_type": "code",
   "execution_count": null,
   "metadata": {},
   "outputs": [],
   "source": [
    "from sklearn.model_selection import train_test_split\n",
    "from sklearn.linear_model import LogisticRegression\n",
    "from sklearn.metrics import classification_report"
   ]
  },
  {
   "cell_type": "markdown",
   "metadata": {},
   "source": [
    "Pandas display options to supress scientifc notation and show all columns and all rows if necessary. Puts a lot of strain of processor"
   ]
  },
  {
   "cell_type": "code",
   "execution_count": null,
   "metadata": {},
   "outputs": [],
   "source": [
    "# pd.options.display.max_columns = None\n",
    "# pd.options.display.max_rows = None\n",
    "pd.options.display.float_format= '{:.2f}'.format"
   ]
  },
  {
   "cell_type": "code",
   "execution_count": 2,
   "metadata": {},
   "outputs": [],
   "source": [
    "nyse = pd.read_csv(os.path.join('Resources', 'nyse.csv'))\n",
    "nasdaq = pd.read_csv(os.path.join('Resources', 'nasdaq.csv'))\n",
    "amex = pd.read_csv(os.path.join('Resources', 'amex.csv'))\n",
    "\n",
    "frames = [nyse, nasdaq, amex]\n",
    "tickers = pd.concat(frames).sort_values(by='Ticker')"
   ]
  },
  {
   "cell_type": "code",
   "execution_count": 3,
   "metadata": {},
   "outputs": [],
   "source": [
    "data_2018 = pd.read_csv(os.path.join('Resources', '2018_Financial_Data.csv')).\\\n",
    "rename(columns={'Unnamed: 0':'Ticker'}).\\\n",
    "sort_values(by='Ticker').\\\n",
    "reset_index(drop=True)\n",
    "\n",
    "df = tickers.merge(data_2018, on='Ticker')"
   ]
  },
  {
   "cell_type": "code",
   "execution_count": 4,
   "metadata": {},
   "outputs": [],
   "source": [
    "df = df[df['Market Cap'].notna()];"
   ]
  },
  {
   "cell_type": "code",
   "execution_count": 6,
   "metadata": {},
   "outputs": [],
   "source": [
    "df['Market Cap Size'] = ['Large Cap' if x > 10000000000 else 'Mid Cap' if x > 2000000000 else 'Small Cap' for x in df['Market Cap']]"
   ]
  },
  {
   "cell_type": "markdown",
   "metadata": {},
   "source": [
    "Note: In *__data_2018__* we had 4392 observations. When we merged with our *__tickers__* dataframe which had 8000+ tickers and company names from exchanges we lost 150 observations. These can be retrieved with \n",
    "``` \n",
    "data_2018[~data_2018.Ticker.isin(tickers['Ticker'])]\n",
    "```\n",
    "Here the **~** symbol essentially means NOT IN when we filter.\\\n",
    "Lastly, a dataframe with just indicators we can manipulate. We can filter out some of the columns containing information we don't need then pass this as a filter to our working dataframe with ```df[x['Indicator']]```"
   ]
  },
  {
   "cell_type": "markdown",
   "metadata": {},
   "source": [
    "We can create a dataframe that counts the null values across each column to see what we can begin to drop. We can choose some threshold for amount of null values that once met causes us to drop the column. If we choose 500, we trim out about 30 columns. "
   ]
  },
  {
   "cell_type": "code",
   "execution_count": 8,
   "metadata": {},
   "outputs": [],
   "source": [
    "null_count = pd.DataFrame(df.isna().sum().sort_values(ascending=False))"
   ]
  },
  {
   "cell_type": "code",
   "execution_count": 9,
   "metadata": {},
   "outputs": [],
   "source": [
    "null_count;"
   ]
  },
  {
   "cell_type": "code",
   "execution_count": 34,
   "metadata": {},
   "outputs": [],
   "source": [
    "null_count[null_count[0] >= 500];"
   ]
  },
  {
   "cell_type": "code",
   "execution_count": 13,
   "metadata": {},
   "outputs": [],
   "source": [
    "to_drop = null_count[null_count[0] >= 500].index"
   ]
  },
  {
   "cell_type": "code",
   "execution_count": 14,
   "metadata": {
    "scrolled": true
   },
   "outputs": [],
   "source": [
    "df = df.drop(columns=to_drop)"
   ]
  },
  {
   "cell_type": "code",
   "execution_count": 16,
   "metadata": {},
   "outputs": [
    {
     "data": {
      "text/html": [
       "<div>\n",
       "<style scoped>\n",
       "    .dataframe tbody tr th:only-of-type {\n",
       "        vertical-align: middle;\n",
       "    }\n",
       "\n",
       "    .dataframe tbody tr th {\n",
       "        vertical-align: top;\n",
       "    }\n",
       "\n",
       "    .dataframe thead th {\n",
       "        text-align: right;\n",
       "    }\n",
       "</style>\n",
       "<table border=\"1\" class=\"dataframe\">\n",
       "  <thead>\n",
       "    <tr style=\"text-align: right;\">\n",
       "      <th></th>\n",
       "      <th>Ticker</th>\n",
       "      <th>Company Name</th>\n",
       "      <th>Revenue</th>\n",
       "      <th>Revenue Growth</th>\n",
       "      <th>Cost of Revenue</th>\n",
       "      <th>Gross Profit</th>\n",
       "      <th>R&amp;D Expenses</th>\n",
       "      <th>SG&amp;A Expense</th>\n",
       "      <th>Operating Expenses</th>\n",
       "      <th>Operating Income</th>\n",
       "      <th>...</th>\n",
       "      <th>Inventory Growth</th>\n",
       "      <th>Asset Growth</th>\n",
       "      <th>Book Value per Share Growth</th>\n",
       "      <th>Debt Growth</th>\n",
       "      <th>R&amp;D Expense Growth</th>\n",
       "      <th>SG&amp;A Expenses Growth</th>\n",
       "      <th>Sector</th>\n",
       "      <th>2019 PRICE VAR [%]</th>\n",
       "      <th>Class</th>\n",
       "      <th>Market Cap Size</th>\n",
       "    </tr>\n",
       "  </thead>\n",
       "  <tbody>\n",
       "    <tr>\n",
       "      <th>0</th>\n",
       "      <td>A</td>\n",
       "      <td>Agilent Technologies</td>\n",
       "      <td>4.914000e+09</td>\n",
       "      <td>0.0988</td>\n",
       "      <td>2.227000e+09</td>\n",
       "      <td>2.687000e+09</td>\n",
       "      <td>385000000.0</td>\n",
       "      <td>1.374000e+09</td>\n",
       "      <td>1.759000e+09</td>\n",
       "      <td>9.280000e+08</td>\n",
       "      <td>...</td>\n",
       "      <td>0.1096</td>\n",
       "      <td>0.0136</td>\n",
       "      <td>-0.0517</td>\n",
       "      <td>-0.1054</td>\n",
       "      <td>0.1357</td>\n",
       "      <td>0.1180</td>\n",
       "      <td>Healthcare</td>\n",
       "      <td>30.976102</td>\n",
       "      <td>1</td>\n",
       "      <td>Large Cap</td>\n",
       "    </tr>\n",
       "    <tr>\n",
       "      <th>1</th>\n",
       "      <td>AA</td>\n",
       "      <td>Alcoa Corp</td>\n",
       "      <td>1.340300e+10</td>\n",
       "      <td>0.1503</td>\n",
       "      <td>1.008100e+10</td>\n",
       "      <td>3.322000e+09</td>\n",
       "      <td>31000000.0</td>\n",
       "      <td>2.480000e+08</td>\n",
       "      <td>1.603000e+09</td>\n",
       "      <td>1.719000e+09</td>\n",
       "      <td>...</td>\n",
       "      <td>0.2519</td>\n",
       "      <td>-0.0754</td>\n",
       "      <td>0.2323</td>\n",
       "      <td>0.2835</td>\n",
       "      <td>-0.0313</td>\n",
       "      <td>-0.1143</td>\n",
       "      <td>Basic Materials</td>\n",
       "      <td>-18.025913</td>\n",
       "      <td>0</td>\n",
       "      <td>Mid Cap</td>\n",
       "    </tr>\n",
       "    <tr>\n",
       "      <th>2</th>\n",
       "      <td>AAL</td>\n",
       "      <td>American Airlines Gp</td>\n",
       "      <td>4.454100e+10</td>\n",
       "      <td>0.0450</td>\n",
       "      <td>2.040000e+10</td>\n",
       "      <td>2.414100e+10</td>\n",
       "      <td>0.0</td>\n",
       "      <td>1.377100e+10</td>\n",
       "      <td>2.148500e+10</td>\n",
       "      <td>2.656000e+09</td>\n",
       "      <td>...</td>\n",
       "      <td>0.1199</td>\n",
       "      <td>0.1477</td>\n",
       "      <td>0.7748</td>\n",
       "      <td>0.3576</td>\n",
       "      <td>0.0000</td>\n",
       "      <td>0.0253</td>\n",
       "      <td>Industrials</td>\n",
       "      <td>-10.602069</td>\n",
       "      <td>0</td>\n",
       "      <td>Large Cap</td>\n",
       "    </tr>\n",
       "    <tr>\n",
       "      <th>3</th>\n",
       "      <td>AAMC</td>\n",
       "      <td>Altisource Asset</td>\n",
       "      <td>1.592600e+07</td>\n",
       "      <td>-0.1230</td>\n",
       "      <td>0.000000e+00</td>\n",
       "      <td>1.592600e+07</td>\n",
       "      <td>0.0</td>\n",
       "      <td>2.253400e+07</td>\n",
       "      <td>2.253400e+07</td>\n",
       "      <td>-6.608000e+06</td>\n",
       "      <td>...</td>\n",
       "      <td>0.0000</td>\n",
       "      <td>-0.1825</td>\n",
       "      <td>-0.0253</td>\n",
       "      <td>0.0000</td>\n",
       "      <td>0.0000</td>\n",
       "      <td>-0.1166</td>\n",
       "      <td>Financial Services</td>\n",
       "      <td>-58.847050</td>\n",
       "      <td>0</td>\n",
       "      <td>Small Cap</td>\n",
       "    </tr>\n",
       "    <tr>\n",
       "      <th>4</th>\n",
       "      <td>AAME</td>\n",
       "      <td>Atlantic Amer Cp</td>\n",
       "      <td>1.855530e+08</td>\n",
       "      <td>0.0245</td>\n",
       "      <td>1.326500e+08</td>\n",
       "      <td>5.290300e+07</td>\n",
       "      <td>0.0</td>\n",
       "      <td>3.904200e+07</td>\n",
       "      <td>5.183700e+07</td>\n",
       "      <td>1.066000e+06</td>\n",
       "      <td>...</td>\n",
       "      <td>0.0000</td>\n",
       "      <td>0.0030</td>\n",
       "      <td>-0.0921</td>\n",
       "      <td>0.0000</td>\n",
       "      <td>0.0000</td>\n",
       "      <td>-0.1014</td>\n",
       "      <td>Financial Services</td>\n",
       "      <td>-20.250605</td>\n",
       "      <td>0</td>\n",
       "      <td>Small Cap</td>\n",
       "    </tr>\n",
       "  </tbody>\n",
       "</table>\n",
       "<p>5 rows × 195 columns</p>\n",
       "</div>"
      ],
      "text/plain": [
       "  Ticker          Company Name       Revenue  Revenue Growth  Cost of Revenue  \\\n",
       "0      A  Agilent Technologies  4.914000e+09          0.0988     2.227000e+09   \n",
       "1     AA            Alcoa Corp  1.340300e+10          0.1503     1.008100e+10   \n",
       "2    AAL  American Airlines Gp  4.454100e+10          0.0450     2.040000e+10   \n",
       "3   AAMC      Altisource Asset  1.592600e+07         -0.1230     0.000000e+00   \n",
       "4   AAME      Atlantic Amer Cp  1.855530e+08          0.0245     1.326500e+08   \n",
       "\n",
       "   Gross Profit  R&D Expenses  SG&A Expense  Operating Expenses  \\\n",
       "0  2.687000e+09   385000000.0  1.374000e+09        1.759000e+09   \n",
       "1  3.322000e+09    31000000.0  2.480000e+08        1.603000e+09   \n",
       "2  2.414100e+10           0.0  1.377100e+10        2.148500e+10   \n",
       "3  1.592600e+07           0.0  2.253400e+07        2.253400e+07   \n",
       "4  5.290300e+07           0.0  3.904200e+07        5.183700e+07   \n",
       "\n",
       "   Operating Income  ...  Inventory Growth  Asset Growth  \\\n",
       "0      9.280000e+08  ...            0.1096        0.0136   \n",
       "1      1.719000e+09  ...            0.2519       -0.0754   \n",
       "2      2.656000e+09  ...            0.1199        0.1477   \n",
       "3     -6.608000e+06  ...            0.0000       -0.1825   \n",
       "4      1.066000e+06  ...            0.0000        0.0030   \n",
       "\n",
       "   Book Value per Share Growth  Debt Growth  R&D Expense Growth  \\\n",
       "0                      -0.0517      -0.1054              0.1357   \n",
       "1                       0.2323       0.2835             -0.0313   \n",
       "2                       0.7748       0.3576              0.0000   \n",
       "3                      -0.0253       0.0000              0.0000   \n",
       "4                      -0.0921       0.0000              0.0000   \n",
       "\n",
       "   SG&A Expenses Growth              Sector  2019 PRICE VAR [%]  Class  \\\n",
       "0                0.1180          Healthcare           30.976102      1   \n",
       "1               -0.1143     Basic Materials          -18.025913      0   \n",
       "2                0.0253         Industrials          -10.602069      0   \n",
       "3               -0.1166  Financial Services          -58.847050      0   \n",
       "4               -0.1014  Financial Services          -20.250605      0   \n",
       "\n",
       "   Market Cap Size  \n",
       "0        Large Cap  \n",
       "1          Mid Cap  \n",
       "2        Large Cap  \n",
       "3        Small Cap  \n",
       "4        Small Cap  \n",
       "\n",
       "[5 rows x 195 columns]"
      ]
     },
     "execution_count": 16,
     "metadata": {},
     "output_type": "execute_result"
    }
   ],
   "source": [
    "df.head()"
   ]
  },
  {
   "cell_type": "markdown",
   "metadata": {},
   "source": [
    "If we count the null values across rows, we see that some companies are missing info on 150+ columns. We set the threshold to be 120, meaning rows with less than 120 populated columns are dropped."
   ]
  },
  {
   "cell_type": "code",
   "execution_count": 19,
   "metadata": {},
   "outputs": [],
   "source": [
    "row_null_count = pd.DataFrame(df.isnull().sum(axis = 1).sort_values(ascending=False))"
   ]
  },
  {
   "cell_type": "code",
   "execution_count": 26,
   "metadata": {},
   "outputs": [
    {
     "data": {
      "text/html": [
       "<div>\n",
       "<style scoped>\n",
       "    .dataframe tbody tr th:only-of-type {\n",
       "        vertical-align: middle;\n",
       "    }\n",
       "\n",
       "    .dataframe tbody tr th {\n",
       "        vertical-align: top;\n",
       "    }\n",
       "\n",
       "    .dataframe thead th {\n",
       "        text-align: right;\n",
       "    }\n",
       "</style>\n",
       "<table border=\"1\" class=\"dataframe\">\n",
       "  <thead>\n",
       "    <tr style=\"text-align: right;\">\n",
       "      <th></th>\n",
       "      <th>0</th>\n",
       "    </tr>\n",
       "  </thead>\n",
       "  <tbody>\n",
       "    <tr>\n",
       "      <th>1153</th>\n",
       "      <td>106</td>\n",
       "    </tr>\n",
       "    <tr>\n",
       "      <th>1819</th>\n",
       "      <td>104</td>\n",
       "    </tr>\n",
       "    <tr>\n",
       "      <th>220</th>\n",
       "      <td>103</td>\n",
       "    </tr>\n",
       "    <tr>\n",
       "      <th>1219</th>\n",
       "      <td>101</td>\n",
       "    </tr>\n",
       "    <tr>\n",
       "      <th>3862</th>\n",
       "      <td>98</td>\n",
       "    </tr>\n",
       "  </tbody>\n",
       "</table>\n",
       "</div>"
      ],
      "text/plain": [
       "        0\n",
       "1153  106\n",
       "1819  104\n",
       "220   103\n",
       "1219  101\n",
       "3862   98"
      ]
     },
     "execution_count": 26,
     "metadata": {},
     "output_type": "execute_result"
    }
   ],
   "source": [
    "row_null_count.head(5)"
   ]
  },
  {
   "cell_type": "code",
   "execution_count": 27,
   "metadata": {},
   "outputs": [],
   "source": [
    "df = df.dropna(thresh=120)"
   ]
  },
  {
   "cell_type": "markdown",
   "metadata": {},
   "source": [
    "Finally we fill null values with the means across cap size"
   ]
  },
  {
   "cell_type": "code",
   "execution_count": 28,
   "metadata": {},
   "outputs": [],
   "source": [
    "small_caps = df[df['Market Cap Size'] == 'Small Cap']\n",
    "mid_caps = df[df['Market Cap Size'] == 'Mid Cap']\n",
    "large_caps = df[df['Market Cap Size'] == 'Large Cap']"
   ]
  },
  {
   "cell_type": "code",
   "execution_count": 37,
   "metadata": {},
   "outputs": [],
   "source": [
    "small_caps = df[df['Market Cap Size'] == 'Small Cap'].fillna(small_caps.mean())\n",
    "mid_caps = df[df['Market Cap Size'] == 'Mid Cap'].fillna(mid_caps.mean())\n",
    "large_caps = df[df['Market Cap Size'] == 'Large Cap'].fillna(large_caps.mean())"
   ]
  },
  {
   "cell_type": "code",
   "execution_count": 43,
   "metadata": {
    "scrolled": false
   },
   "outputs": [],
   "source": [
    "caps = [small_caps, mid_caps, large_caps]\n",
    "\n",
    "market = pd.concat(caps)\n",
    "\n",
    "market;"
   ]
  },
  {
   "cell_type": "code",
   "execution_count": null,
   "metadata": {},
   "outputs": [],
   "source": [
    "indicators = pd.DataFrame({\n",
    "   'Indicator': market.columns.tolist()\n",
    "})\n",
    "\n",
    "filt = indicators[indicators['Indicator'].str.contains('Growth|Margin|ratio|Ratio|Turnover|per|/| / | to |Per|return|To|days') == False]"
   ]
  },
  {
   "cell_type": "code",
   "execution_count": null,
   "metadata": {
    "scrolled": true
   },
   "outputs": [],
   "source": [
    "cond = x['Indicator'].to_list()"
   ]
  },
  {
   "cell_type": "code",
   "execution_count": 44,
   "metadata": {},
   "outputs": [],
   "source": [
    "# market.to_csv(os.path.join('cleaned_data.csv'))"
   ]
  },
  {
   "cell_type": "markdown",
   "metadata": {},
   "source": [
    " \n",
    "\n",
    "\n",
    "\n",
    "\n",
    "\n"
   ]
  },
  {
   "cell_type": "markdown",
   "metadata": {},
   "source": [
    " \n",
    "\n",
    "\n",
    "\n",
    "\n",
    "\n"
   ]
  },
  {
   "cell_type": "markdown",
   "metadata": {},
   "source": [
    "## Conditional Filtering"
   ]
  },
  {
   "cell_type": "code",
   "execution_count": null,
   "metadata": {},
   "outputs": [],
   "source": [
    "tickers[tickers['Ticker'].str.startswith('BA') == True];"
   ]
  },
  {
   "cell_type": "code",
   "execution_count": null,
   "metadata": {},
   "outputs": [],
   "source": [
    "tickers[tickers['Company Name'].str.contains('ETF') == True];"
   ]
  },
  {
   "cell_type": "code",
   "execution_count": null,
   "metadata": {},
   "outputs": [],
   "source": [
    "df[df['Company Name'].str.contains('ETF') == True];"
   ]
  },
  {
   "cell_type": "code",
   "execution_count": null,
   "metadata": {
    "scrolled": true
   },
   "outputs": [],
   "source": [
    "df[df['Ticker'].str.startswith('BA') == True];"
   ]
  },
  {
   "cell_type": "code",
   "execution_count": null,
   "metadata": {},
   "outputs": [],
   "source": [
    "df[df['Revenue Growth'] > 10].sort_values(by='Revenue', ascending=False).head()"
   ]
  },
  {
   "cell_type": "markdown",
   "metadata": {},
   "source": [
    " "
   ]
  },
  {
   "cell_type": "markdown",
   "metadata": {},
   "source": [
    " "
   ]
  },
  {
   "cell_type": "markdown",
   "metadata": {},
   "source": [
    "# Iterators "
   ]
  },
  {
   "cell_type": "markdown",
   "metadata": {},
   "source": [
    "Sector breakdown across Market Cap Sizes"
   ]
  },
  {
   "cell_type": "code",
   "execution_count": null,
   "metadata": {},
   "outputs": [],
   "source": [
    "count = pd.DataFrame(df.groupby(['Market Cap Size'])['Sector'].value_counts());\n",
    "\n",
    "count_gen = count.groupby(['Market Cap Size']).__iter__()"
   ]
  },
  {
   "cell_type": "code",
   "execution_count": null,
   "metadata": {
    "scrolled": false
   },
   "outputs": [],
   "source": [
    "count_group_id, count_grouped_data = count_gen.__next__()\n",
    "print(count_group_id) \n",
    "count_grouped_data"
   ]
  },
  {
   "cell_type": "markdown",
   "metadata": {},
   "source": [
    " "
   ]
  },
  {
   "cell_type": "markdown",
   "metadata": {},
   "source": [
    "Iterate across Market Caps and Sectors"
   ]
  },
  {
   "cell_type": "code",
   "execution_count": null,
   "metadata": {},
   "outputs": [],
   "source": [
    "mcap_gen = df.groupby(['Market Cap Size']).__iter__()\n",
    "sector_gen = df.groupby(['Sector']).__iter__()"
   ]
  },
  {
   "cell_type": "code",
   "execution_count": null,
   "metadata": {
    "scrolled": false
   },
   "outputs": [],
   "source": [
    "market_group_id, market_grouped_data = mcap_gen.__next__()\n",
    "print(market_group_id) \n",
    "market_grouped_data;"
   ]
  },
  {
   "cell_type": "code",
   "execution_count": null,
   "metadata": {
    "scrolled": false
   },
   "outputs": [],
   "source": [
    "sector_group_id, sector_grouped_data = sector_gen.__next__()\n",
    "print(sector_group_id)\n",
    "sector_grouped_data;"
   ]
  },
  {
   "cell_type": "markdown",
   "metadata": {},
   "source": [
    " "
   ]
  },
  {
   "cell_type": "markdown",
   "metadata": {},
   "source": [
    " "
   ]
  },
  {
   "cell_type": "code",
   "execution_count": null,
   "metadata": {},
   "outputs": [],
   "source": [
    "scap_gen = small_caps.groupby(['Sector']).__iter__()"
   ]
  },
  {
   "cell_type": "code",
   "execution_count": null,
   "metadata": {
    "scrolled": true
   },
   "outputs": [],
   "source": [
    "scap_group_id, scap_grouped_data = scap_gen.__next__()\n",
    "print(scap_group_id) \n",
    "scap_grouped_data.sort_values(by='Revenue Growth', ascending=False)"
   ]
  },
  {
   "cell_type": "code",
   "execution_count": null,
   "metadata": {
    "scrolled": true
   },
   "outputs": [],
   "source": [
    "assets = scap_grouped_data['Ticker'].to_list()\n",
    "\n",
    "pf_data = pd.DataFrame()\n",
    "\n",
    "for a in assets:\n",
    "    pf_data[a] = wb.DataReader(a, data_source = 'yahoo', start = '2018-1-1')['Adj Close']\n"
   ]
  },
  {
   "cell_type": "markdown",
   "metadata": {},
   "source": [
    " "
   ]
  },
  {
   "cell_type": "markdown",
   "metadata": {},
   "source": [
    " "
   ]
  },
  {
   "cell_type": "code",
   "execution_count": null,
   "metadata": {},
   "outputs": [],
   "source": [
    "mcap_gen = mid_caps.groupby(['Sector']).__iter__()"
   ]
  },
  {
   "cell_type": "code",
   "execution_count": null,
   "metadata": {
    "scrolled": true
   },
   "outputs": [],
   "source": [
    "mcap_group_id, mcap_grouped_data = mcap_gen.__next__()\n",
    "print(mcap_group_id) \n",
    "mcap_grouped_data.sort_values(by='Revenue Growth', ascending=False)"
   ]
  },
  {
   "cell_type": "code",
   "execution_count": null,
   "metadata": {
    "scrolled": false
   },
   "outputs": [],
   "source": [
    "assets = mcap_grouped_data['Ticker'].to_list()\n",
    "\n",
    "pf_data = pd.DataFrame()\n",
    "\n",
    "for a in assets:\n",
    "    pf_data[a] = wb.DataReader(a, data_source = 'yahoo', start = '2018-1-1')['Adj Close']\n"
   ]
  },
  {
   "cell_type": "markdown",
   "metadata": {},
   "source": [
    " "
   ]
  },
  {
   "cell_type": "markdown",
   "metadata": {},
   "source": [
    " "
   ]
  },
  {
   "cell_type": "code",
   "execution_count": null,
   "metadata": {},
   "outputs": [],
   "source": [
    "lcap_gen = large_caps.groupby(['Sector']).__iter__()"
   ]
  },
  {
   "cell_type": "code",
   "execution_count": null,
   "metadata": {
    "scrolled": true
   },
   "outputs": [],
   "source": [
    "lcap_group_id, lcap_grouped_data = lcap_gen.__next__()\n",
    "print(lcap_group_id) \n",
    "lcap_grouped_data.sort_values(by='Revenue Growth', ascending=False)"
   ]
  },
  {
   "cell_type": "code",
   "execution_count": null,
   "metadata": {
    "scrolled": false
   },
   "outputs": [],
   "source": [
    "assets = lcap_grouped_data['Ticker'].to_list()\n",
    "\n",
    "pf_data = pd.DataFrame()\n",
    "\n",
    "for a in assets:\n",
    "    pf_data[a] = wb.DataReader(a, data_source = 'yahoo', start = '2018-1-1')['Adj Close']\n",
    "\n",
    "(pf_data / pf_data.iloc[0] * 100).iplot(asFigure=True)"
   ]
  },
  {
   "cell_type": "markdown",
   "metadata": {},
   "source": [
    " "
   ]
  },
  {
   "cell_type": "markdown",
   "metadata": {},
   "source": [
    " "
   ]
  },
  {
   "cell_type": "markdown",
   "metadata": {},
   "source": [
    "## Graphs and Visualizations"
   ]
  },
  {
   "cell_type": "markdown",
   "metadata": {},
   "source": [
    "Count of Companies by Sector"
   ]
  },
  {
   "cell_type": "code",
   "execution_count": null,
   "metadata": {
    "scrolled": true
   },
   "outputs": [],
   "source": [
    "plt.figure(figsize=(18,8))\n",
    "sns.countplot(x='Sector', data = df, palette='viridis', order=df['Sector'].value_counts().index).set_xticklabels(labels = df['Sector'].value_counts().index, fontdict={'fontsize': 12},rotation=30)\n",
    "plt.tight_layout()\n",
    "plt.savefig(os.path.join('Figures','StockVolume_Sector.png'))"
   ]
  },
  {
   "cell_type": "markdown",
   "metadata": {},
   "source": [
    "Revenues by Sector"
   ]
  },
  {
   "cell_type": "code",
   "execution_count": null,
   "metadata": {},
   "outputs": [],
   "source": [
    "sector_rev = pd.DataFrame(df.groupby(['Sector']).mean()['Revenue']).reset_index().sort_values(by='Revenue', ascending=False)\n",
    "\n",
    "plt.figure(figsize=(18,8))\n",
    "plt.title('Revenues by Sector')\n",
    "sns.barplot(x = sector_rev['Sector'], y = sector_rev['Revenue'], palette='viridis',).set_xticklabels(labels = sector_rev['Sector'], fontdict={'fontsize': 12}, rotation=30)\n",
    "plt.tight_layout();\n",
    "plt.savefig(os.path.join('Figures','SectorRev.png'))"
   ]
  },
  {
   "cell_type": "markdown",
   "metadata": {},
   "source": [
    "Count of Companies across Market Cap Sizes"
   ]
  },
  {
   "cell_type": "code",
   "execution_count": null,
   "metadata": {
    "scrolled": true
   },
   "outputs": [],
   "source": [
    "plt.figure(figsize=(18,8))\n",
    "sns.countplot(x='Market Cap Size', data = df, palette='viridis', order=df['Market Cap Size'].value_counts().index).set_xticklabels(labels = df['Market Cap Size'].value_counts().index, fontdict={'fontsize': 12},rotation=30)\n",
    "plt.tight_layout()\n",
    "plt.ylabel('Company Count')\n",
    "plt.savefig(os.path.join('Figures','MarketCapBreakdown.png'))"
   ]
  },
  {
   "cell_type": "code",
   "execution_count": null,
   "metadata": {},
   "outputs": [],
   "source": [
    "bars = []\n",
    "sectors = df['Sector'].unique()\n",
    "caps=['Small Cap', 'Mid Cap', 'Large Cap']\n",
    "for sector in sectors:\n",
    "    bars.append(go.Bar(name=sector, x=caps, y=np.array(df[df['Sector'] == sector]['Market Cap Size'].value_counts())))\n",
    "\n",
    "plt.figure(figsize=(30,12))\n",
    "fig = go.Figure(data=bars)\n",
    "# Change the bar mode\n",
    "fig.update_layout(barmode='stack')\n",
    "fig.show()"
   ]
  },
  {
   "cell_type": "code",
   "execution_count": null,
   "metadata": {
    "scrolled": false
   },
   "outputs": [],
   "source": [
    "sns.pairplot(large_caps[['2019 PRICE VAR [%]', 'Revenue', 'R&D Expenses', 'Sector','Free Cash Flow','Net Debt']], diag_kind=\"kde\")"
   ]
  },
  {
   "cell_type": "code",
   "execution_count": null,
   "metadata": {},
   "outputs": [],
   "source": [
    "corrs = market[cond].corr()\n",
    "\n",
    "plt.figure(figsize=(20,20))\n",
    "g = sns.heatmap(corrs, center=0)\n",
    "plt.title('Correlations Among Corporate Financial Indicators')\n",
    "plt.savefig(os.path.join('Figures','correlations.png'))"
   ]
  },
  {
   "cell_type": "code",
   "execution_count": null,
   "metadata": {
    "scrolled": false
   },
   "outputs": [],
   "source": [
    "px.scatter(large_caps, x='Free Cash Flow', y='2019 PRICE VAR [%]', hover_data=['Company Name','Ticker','Market Cap','Sector'])"
   ]
  },
  {
   "cell_type": "markdown",
   "metadata": {},
   "source": [
    " "
   ]
  },
  {
   "cell_type": "markdown",
   "metadata": {},
   "source": [
    " "
   ]
  },
  {
   "cell_type": "markdown",
   "metadata": {},
   "source": [
    "## Linear Regression Analysis"
   ]
  },
  {
   "cell_type": "code",
   "execution_count": null,
   "metadata": {},
   "outputs": [],
   "source": [
    "y = market[\"2019 PRICE VAR [%]\"]\n",
    "\n",
    "X = sm.add_constant(market[cond].iloc[:,0:-2])"
   ]
  },
  {
   "cell_type": "code",
   "execution_count": null,
   "metadata": {
    "scrolled": false
   },
   "outputs": [],
   "source": [
    "reg = sm.OLS(y, X).fit()\n",
    "\n",
    "reg.summary();"
   ]
  },
  {
   "cell_type": "markdown",
   "metadata": {},
   "source": [
    " "
   ]
  },
  {
   "cell_type": "markdown",
   "metadata": {},
   "source": [
    " "
   ]
  }
 ],
 "metadata": {
  "kernelspec": {
   "display_name": "Python 3",
   "language": "python",
   "name": "python3"
  },
  "language_info": {
   "codemirror_mode": {
    "name": "ipython",
    "version": 3
   },
   "file_extension": ".py",
   "mimetype": "text/x-python",
   "name": "python",
   "nbconvert_exporter": "python",
   "pygments_lexer": "ipython3",
   "version": "3.7.3"
  }
 },
 "nbformat": 4,
 "nbformat_minor": 2
}
