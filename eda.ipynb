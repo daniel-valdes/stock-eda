{
 "cells": [
  {
   "cell_type": "code",
   "execution_count": 2,
   "metadata": {},
   "outputs": [],
   "source": [
    "import os\n",
    "import pandas as pd"
   ]
  },
  {
   "cell_type": "code",
   "execution_count": 3,
   "metadata": {},
   "outputs": [],
   "source": [
    "ticker_names = pd.read_csv(os.path.join('Resources', 'other-listed.csv')).\\\n",
    "rename(columns={'ACT Symbol':'Ticker'}).\\\n",
    "drop(columns=['Security Name', 'Exchange', 'CQS Symbol',\n",
    "       'ETF', 'Round Lot Size', 'Test Issue', 'NASDAQ Symbol'])"
   ]
  },
  {
   "cell_type": "code",
   "execution_count": 4,
   "metadata": {},
   "outputs": [],
   "source": [
    "data_2018 = pd.read_csv(os.path.join('Resources', '2018_Financial_Data.csv')).\\\n",
    "rename(columns={'Unnamed: 0':'Ticker'}).\\\n",
    "sort_values(by='Ticker').\\\n",
    "reset_index(drop=True)"
   ]
  },
  {
   "cell_type": "code",
   "execution_count": 5,
   "metadata": {},
   "outputs": [],
   "source": [
    "nyse = pd.read_csv(os.path.join('Resources', 'nyse.csv'))\n",
    "nasdaq = pd.read_csv(os.path.join('Resources', 'nasdaq.csv'))\n",
    "frames = [nyse, nasdaq]"
   ]
  },
  {
   "cell_type": "code",
   "execution_count": 6,
   "metadata": {},
   "outputs": [],
   "source": [
    "tickers = pd.concat(frames).sort_values(by='Ticker')"
   ]
  },
  {
   "cell_type": "code",
   "execution_count": 7,
   "metadata": {},
   "outputs": [],
   "source": [
    "df = tickers.merge(data_2018, on='Ticker')"
   ]
  },
  {
   "cell_type": "code",
   "execution_count": 8,
   "metadata": {},
   "outputs": [
    {
     "data": {
      "text/html": [
       "<div>\n",
       "<style scoped>\n",
       "    .dataframe tbody tr th:only-of-type {\n",
       "        vertical-align: middle;\n",
       "    }\n",
       "\n",
       "    .dataframe tbody tr th {\n",
       "        vertical-align: top;\n",
       "    }\n",
       "\n",
       "    .dataframe thead th {\n",
       "        text-align: right;\n",
       "    }\n",
       "</style>\n",
       "<table border=\"1\" class=\"dataframe\">\n",
       "  <thead>\n",
       "    <tr style=\"text-align: right;\">\n",
       "      <th></th>\n",
       "      <th>Ticker</th>\n",
       "      <th>Company Name</th>\n",
       "      <th>Revenue</th>\n",
       "      <th>Revenue Growth</th>\n",
       "      <th>Cost of Revenue</th>\n",
       "      <th>Gross Profit</th>\n",
       "      <th>R&amp;D Expenses</th>\n",
       "      <th>SG&amp;A Expense</th>\n",
       "      <th>Operating Expenses</th>\n",
       "      <th>Operating Income</th>\n",
       "      <th>...</th>\n",
       "      <th>Receivables growth</th>\n",
       "      <th>Inventory Growth</th>\n",
       "      <th>Asset Growth</th>\n",
       "      <th>Book Value per Share Growth</th>\n",
       "      <th>Debt Growth</th>\n",
       "      <th>R&amp;D Expense Growth</th>\n",
       "      <th>SG&amp;A Expenses Growth</th>\n",
       "      <th>Sector</th>\n",
       "      <th>2019 PRICE VAR [%]</th>\n",
       "      <th>Class</th>\n",
       "    </tr>\n",
       "  </thead>\n",
       "  <tbody>\n",
       "    <tr>\n",
       "      <th>1605</th>\n",
       "      <td>GPS</td>\n",
       "      <td>Gap Inc</td>\n",
       "      <td>1.585500e+10</td>\n",
       "      <td>0.0218</td>\n",
       "      <td>9.789000e+09</td>\n",
       "      <td>6.066000e+09</td>\n",
       "      <td>0.0</td>\n",
       "      <td>4.587000e+09</td>\n",
       "      <td>4.587000e+09</td>\n",
       "      <td>1.479000e+09</td>\n",
       "      <td>...</td>\n",
       "      <td>0.0</td>\n",
       "      <td>0.0913</td>\n",
       "      <td>0.0498</td>\n",
       "      <td>0.0992</td>\n",
       "      <td>-0.0487</td>\n",
       "      <td>0.0</td>\n",
       "      <td>0.031</td>\n",
       "      <td>Consumer Cyclical</td>\n",
       "      <td>-28.079979</td>\n",
       "      <td>0</td>\n",
       "    </tr>\n",
       "  </tbody>\n",
       "</table>\n",
       "<p>1 rows × 226 columns</p>\n",
       "</div>"
      ],
      "text/plain": [
       "     Ticker Company Name       Revenue  Revenue Growth  Cost of Revenue  \\\n",
       "1605    GPS      Gap Inc  1.585500e+10          0.0218     9.789000e+09   \n",
       "\n",
       "      Gross Profit  R&D Expenses  SG&A Expense  Operating Expenses  \\\n",
       "1605  6.066000e+09           0.0  4.587000e+09        4.587000e+09   \n",
       "\n",
       "      Operating Income  ...  Receivables growth  Inventory Growth  \\\n",
       "1605      1.479000e+09  ...                 0.0            0.0913   \n",
       "\n",
       "      Asset Growth  Book Value per Share Growth  Debt Growth  \\\n",
       "1605        0.0498                       0.0992      -0.0487   \n",
       "\n",
       "      R&D Expense Growth  SG&A Expenses Growth             Sector  \\\n",
       "1605                 0.0                 0.031  Consumer Cyclical   \n",
       "\n",
       "      2019 PRICE VAR [%]  Class  \n",
       "1605          -28.079979      0  \n",
       "\n",
       "[1 rows x 226 columns]"
      ]
     },
     "execution_count": 8,
     "metadata": {},
     "output_type": "execute_result"
    }
   ],
   "source": [
    "df[df['Ticker'] == \"GPS\"]"
   ]
  },
  {
   "cell_type": "code",
   "execution_count": 9,
   "metadata": {},
   "outputs": [],
   "source": [
    "df.to_csv(os.path.join('2018_data.csv'))"
   ]
  },
  {
   "cell_type": "code",
   "execution_count": null,
   "metadata": {},
   "outputs": [],
   "source": []
  }
 ],
 "metadata": {
  "kernelspec": {
   "display_name": "Python 3",
   "language": "python",
   "name": "python3"
  },
  "language_info": {
   "codemirror_mode": {
    "name": "ipython",
    "version": 3
   },
   "file_extension": ".py",
   "mimetype": "text/x-python",
   "name": "python",
   "nbconvert_exporter": "python",
   "pygments_lexer": "ipython3",
   "version": "3.7.3"
  }
 },
 "nbformat": 4,
 "nbformat_minor": 2
}
